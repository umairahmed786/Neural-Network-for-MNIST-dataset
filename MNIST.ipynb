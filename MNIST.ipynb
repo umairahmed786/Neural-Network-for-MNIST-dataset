{
 "cells": [
  {
   "cell_type": "code",
   "execution_count": 295,
   "id": "2811dd1d",
   "metadata": {},
   "outputs": [],
   "source": [
    "import mnist\n",
    "\n",
    "mnist.init()\n"
   ]
  },
  {
   "cell_type": "code",
   "execution_count": 296,
   "id": "1e493dce",
   "metadata": {},
   "outputs": [],
   "source": [
    "x_train, t_train, x_test, t_test = mnist.load()\n"
   ]
  },
  {
   "cell_type": "code",
   "execution_count": 297,
   "id": "de6e9ece",
   "metadata": {},
   "outputs": [
    {
     "name": "stdout",
     "output_type": "stream",
     "text": [
      "(784, 60000)\n",
      "(1, 60000)\n",
      "(784, 10000)\n",
      "(1, 10000)\n"
     ]
    }
   ],
   "source": [
    "x_train=x_train.T\n",
    "t_train=t_train.T.reshape(1,-1)\n",
    "x_test=x_test.T\n",
    "t_test=t_test.reshape(1,-1)\n",
    "print(x_train.shape)\n",
    "print(t_train.shape)\n",
    "print(x_test.shape)\n",
    "print(t_test.shape)"
   ]
  },
  {
   "cell_type": "code",
   "execution_count": 298,
   "id": "aff19a3d",
   "metadata": {
    "scrolled": true
   },
   "outputs": [
    {
     "data": {
      "image/png": "[encoded data removed]",
      "text/plain": [
       "<Figure size 432x288 with 1 Axes>"
      ]
     },
     "metadata": {
      "needs_background": "light"
     },
     "output_type": "display_data"
    },
    {
     "name": "stdout",
     "output_type": "stream",
     "text": [
      "5\n"
     ]
    }
   ],
   "source": [
    "import matplotlib.pyplot as plt\n",
    "img = x_train[:,0].reshape(28,28) # First image in the training set.\n",
    "plt.imshow(img,cmap='gray')\n",
    "plt.show()\n",
    "print(t_train[0][0])"
   ]
  },
  {
   "cell_type": "code",
   "execution_count": 299,
   "id": "e07ceeea",
   "metadata": {},
   "outputs": [
    {
     "name": "stdout",
     "output_type": "stream",
     "text": [
      "(10, 60000)\n",
      "(10, 10000)\n"
     ]
    }
   ],
   "source": [
    "import numpy as np\n",
    "x_train=x_train/255\n",
    "x_test=x_test/255\n",
    "\n",
    "y_train=np.zeros((10,60000))\n",
    "y_test=np.zeros((10,10000))\n",
    "print(y_train.shape)\n",
    "print(y_test.shape)"
   ]
  },
  {
   "cell_type": "code",
   "execution_count": 300,
   "id": "454f98b6",
   "metadata": {},
   "outputs": [],
   "source": [
    "#Converting the output into 10 by 1 for each input and place 1 which index corresponds to the ouput of the given image\n",
    "for i in range(0,y_train.shape[1]):\n",
    "    y_train[t_train[0][i]][i]=1\n",
    "for i in range(0,y_test.shape[1]):\n",
    "    y_test[t_test[0][i]][i]=1"
   ]
  },
  {
   "cell_type": "code",
   "execution_count": 301,
   "id": "73ae6204",
   "metadata": {},
   "outputs": [],
   "source": [
    "# GRADED FUNCTION: sigmoid\n",
    "\n",
    "def sigmoid(z):\n",
    "    s=1/(1+np.exp(-z))\n",
    "    return s"
   ]
  },
  {
   "cell_type": "code",
   "execution_count": 302,
   "id": "a7364b9b",
   "metadata": {},
   "outputs": [],
   "source": [
    "# GRADED FUNCTION: Relu\n",
    "\n",
    "def relu(z):\n",
    "    s=np.maximum(0,z)\n",
    "    return s"
   ]
  },
  {
   "cell_type": "code",
   "execution_count": 303,
   "id": "562eed87",
   "metadata": {},
   "outputs": [],
   "source": [
    "\n",
    "def dev_relu(a):\n",
    "    x=np.copy(a)\n",
    "    x[x<=0] = 0\n",
    "    x[x>0] = 1\n",
    "    return x"
   ]
  },
  {
   "cell_type": "code",
   "execution_count": 304,
   "id": "9dc15f7f",
   "metadata": {},
   "outputs": [],
   "source": [
    "# GRADED FUNCTION: Liky Relu\n",
    "\n",
    "def likyrelu(z):\n",
    "    s=np.maximum(0.01*z , z)\n",
    "    return s"
   ]
  },
  {
   "cell_type": "code",
   "execution_count": 305,
   "id": "19f918d5",
   "metadata": {},
   "outputs": [],
   "source": [
    "\n",
    "def dev_likyrelu(a):\n",
    "    x=np.copy(a)\n",
    "    x[x<0] = 0.01\n",
    "    x[x>=0] = 1\n",
    "\n",
    "    return x"
   ]
  },
  {
   "cell_type": "code",
   "execution_count": 306,
   "id": "f0b95161",
   "metadata": {},
   "outputs": [],
   "source": [
    "# GRADED FUNCTION: initialize_parameters\n",
    "\n",
    "def initialize_parameters(n_x, n_h, n_y):\n",
    "    \"\"\"\n",
    "    Argument:\n",
    "    n_x -- size of the input layer\n",
    "    n_h -- size of the hidden layer\n",
    "    n_y -- size of the output layer\n",
    "    \n",
    "    Returns:\n",
    "    params -- python dictionary containing your parameters:\n",
    "                    W1 -- weight matrix of shape (n_h, n_x)\n",
    "                    b1 -- bias vector of shape (n_h, 1)\n",
    "                    W2 -- weight matrix of shape (n_y, n_h)\n",
    "                    b2 -- bias vector of shape (n_y, 1)\n",
    "    \"\"\"    \n",
    "    W1=np.random.randn(n_h,n_x) * 0.01\n",
    "    b1=np.zeros((n_h,1))\n",
    "    W2=np.random.randn(n_y,n_h) * 0.01\n",
    "    b2=np.zeros((n_y,1))\n",
    "\n",
    "    parameters = {\"W1\": W1,\n",
    "                  \"b1\": b1,\n",
    "                  \"W2\": W2,\n",
    "                  \"b2\": b2}\n",
    "    \n",
    "    return parameters"
   ]
  },
  {
   "cell_type": "code",
   "execution_count": 307,
   "id": "b844c781",
   "metadata": {},
   "outputs": [],
   "source": [
    "# GRADED FUNCTION:forward_propagation\n",
    "\n",
    "def forward_propagation(X, parameters):\n",
    "    \"\"\"\n",
    "    Argument:\n",
    "    X -- input data of size (n_x, m)\n",
    "    parameters -- python dictionary containing your parameters (output of initialization function)\n",
    "    \n",
    "    Returns:\n",
    "    A2 -- The sigmoid output of the second activation\n",
    "    cache -- a dictionary containing \"Z1\", \"A1\", \"Z2\" and \"A2\"\n",
    "    \"\"\"\n",
    "    # Retrieve each parameter from the dictionary \"parameters\"\n",
    "    \n",
    "    W1=parameters[\"W1\"]\n",
    "    b1=parameters[\"b1\"]\n",
    "    W2=parameters[\"W2\"]\n",
    "    b2=parameters[\"b2\"]\n",
    "    \n",
    " \n",
    "    \n",
    "    # Implement Forward Propagation to calculate A2 (probabilities)\n",
    "    \n",
    "    Z1=np.dot(W1,X)+b1\n",
    "    A1=relu(Z1)\n",
    "    Z2=np.dot(W2,A1)+b2\n",
    "    A2=sigmoid(Z2)\n",
    "   \n",
    "    \n",
    "    assert(A2.shape == (10, X.shape[1]))\n",
    "    \n",
    "    cache = {\"Z1\": Z1,\n",
    "             \"A1\": A1,\n",
    "             \"Z2\": Z2,\n",
    "             \"A2\": A2}\n",
    "    \n",
    "    return A2, cache"
   ]
  },
  {
   "cell_type": "code",
   "execution_count": 308,
   "id": "d6af2a7e",
   "metadata": {},
   "outputs": [],
   "source": [
    "def compute_cost(A2, Y):\n",
    "    \"\"\"\n",
    "    Computes the cross-entropy cost given in equation (13)\n",
    "    \n",
    "    Arguments:\n",
    "    A2 -- The sigmoid output of the second activation, of shape (1, number of examples)\n",
    "    Y -- \"true\" labels vector of shape (1, number of examples)\n",
    "\n",
    "    Returns:\n",
    "    cost -- cross-entropy cost given equation (13)\n",
    "    \n",
    "    \"\"\"\n",
    "    \n",
    "    m = Y.shape[1] # number of examples\n",
    "\n",
    "    # Compute the cross-entropy cost\n",
    "   \n",
    "    Logprobs=np.sum(np.multiply(Y,np.log(A2))+np.multiply((1-Y),np.log(1-A2)),axis=1,keepdims=True)\n",
    "    Logprobs=Logprobs/10\n",
    "    cost=(-1/m)*np.sum(Logprobs)\n",
    "    \n",
    "    \n",
    "    cost = float(np.squeeze(cost))  # makes sure cost is the dimension we expect. \n",
    "                                    # E.g., turns [[17]] into 17 \n",
    "    \n",
    "    return cost"
   ]
  },
  {
   "cell_type": "code",
   "execution_count": 309,
   "id": "6e950b19",
   "metadata": {},
   "outputs": [],
   "source": [
    "# GRADED FUNCTION: backward_propagation\n",
    "\n",
    "def backward_propagation(parameters, cache, X, Y):\n",
    "    \"\"\"\n",
    "    Implement the backward propagation using the instructions above.\n",
    "    \n",
    "    Arguments:\n",
    "    parameters -- python dictionary containing our parameters \n",
    "    cache -- a dictionary containing \"Z1\", \"A1\", \"Z2\" and \"A2\".\n",
    "    X -- input data of shape (2, number of examples)\n",
    "    Y -- \"true\" labels vector of shape (1, number of examples)\n",
    "    \n",
    "    Returns:\n",
    "    grads -- python dictionary containing your gradients with respect to different parameters\n",
    "    \"\"\"\n",
    "    m = X.shape[1]\n",
    "    \n",
    "    # First, retrieve W1 and W2 from the dictionary \"parameters\".\n",
    "    W1=parameters[\"W1\"]\n",
    "    W2=parameters[\"W2\"]\n",
    "    \n",
    "    # Retrieve also A1 and A2 from dictionary \"cache\".\n",
    "    A1=cache[\"A1\"]\n",
    "    A2=cache[\"A2\"]\n",
    "    \n",
    "    \n",
    "    # Backward propagation: calculate dW1, db1, dW2, db2. \n",
    "    dZ2=A2-Y/10\n",
    "    dW2=np.dot(dZ2,A1.T)/m\n",
    "    db2=np.sum(dZ2,axis=1,keepdims=True)/m\n",
    "#     dZ1=np.dot(W2.T,dZ2)*(A1*(A1-1))\n",
    "    \n",
    "    dZ1=np.dot(W2.T,dZ2)*(dev_relu(A1))\n",
    "#     dZ1=np.dot(W2.T,dZ2)*(1 - np.power(A1, 2))\n",
    "    dW1=np.dot(dZ1,X.T)/m\n",
    "    db1=np.sum(dZ1,axis=1,keepdims=True)/m\n",
    "    \n",
    "    grads = {\"dW1\": dW1,\n",
    "             \"db1\": db1,\n",
    "             \"dW2\": dW2,\n",
    "             \"db2\": db2}\n",
    "    \n",
    "    return grads"
   ]
  },
  {
   "cell_type": "code",
   "execution_count": 310,
   "id": "2c3d0d71",
   "metadata": {},
   "outputs": [],
   "source": [
    "# GRADED FUNCTION: update_parameters\n",
    "\n",
    "def update_parameters(parameters, grads, learning_rate = 1.2):\n",
    "    \"\"\"\n",
    "    Updates parameters using the gradient descent update rule given above\n",
    "    \n",
    "    Arguments:\n",
    "    parameters -- python dictionary containing your parameters \n",
    "    grads -- python dictionary containing your gradients \n",
    "    \n",
    "    Returns:\n",
    "    parameters -- python dictionary containing your updated parameters \n",
    "    \"\"\"\n",
    "    # Retrieve a copy of each parameter from the dictionary \"parameters\". Use copy.deepcopy(...) for W1 and W2\n",
    "    W1=parameters[\"W1\"]\n",
    "    b1=parameters[\"b1\"]\n",
    "    W2=parameters[\"W2\"]\n",
    "    b2=parameters[\"b2\"]\n",
    "    \n",
    "    # Retrieve each gradient from the dictionary \"grads\"\n",
    "    dW1=grads[\"dW1\"]\n",
    "    db1=grads[\"db1\"]\n",
    "    dW2=grads[\"dW2\"]\n",
    "    db2=grads[\"db2\"]\n",
    "    \n",
    "    # Update rule for each parameter\n",
    "    W1=W1-learning_rate*dW1\n",
    "    W2=W2-learning_rate*dW2\n",
    "    b1=b1-learning_rate*db1\n",
    "    b2=b2-learning_rate*db2\n",
    "    \n",
    "    parameters = {\"W1\": W1,\n",
    "                  \"b1\": b1,\n",
    "                  \"W2\": W2,\n",
    "                  \"b2\": b2}\n",
    "    \n",
    "    return parameters"
   ]
  },
  {
   "cell_type": "code",
   "execution_count": 311,
   "id": "9681fb88",
   "metadata": {},
   "outputs": [],
   "source": [
    "# GRADED FUNCTION: nn_model\n",
    "\n",
    "def nn_model(X, Y, n_h, num_iterations = 10000, print_cost=False):\n",
    "    \"\"\"\n",
    "    Arguments:\n",
    "    X -- dataset of shape (2, number of examples)\n",
    "    Y -- labels of shape (1, number of examples)\n",
    "    n_h -- size of the hidden layer\n",
    "    num_iterations -- Number of iterations in gradient descent loop\n",
    "    print_cost -- if True, print the cost every 1000 iterations\n",
    "    \n",
    "    Returns:\n",
    "    parameters -- parameters learnt by the model. They can then be used to predict.\n",
    "    \"\"\"\n",
    "    \n",
    "    n_x = X.shape[0]\n",
    "    n_y = Y.shape[0]\n",
    "    \n",
    "    # Initialize parameters\n",
    "    #(≈ 1 line of code)\n",
    "    # parameters = ...\n",
    "    # YOUR CODE STARTS HERE\n",
    "    \n",
    "    parameters=initialize_parameters(n_x, n_h, n_y)\n",
    "    # YOUR CODE ENDS HERE\n",
    "    \n",
    "    # Loop (gradient descent)\n",
    "\n",
    "    for i in range(0, num_iterations):\n",
    "         \n",
    "        #(≈ 4 lines of code)\n",
    "        # Forward propagation. Inputs: \"X, parameters\". Outputs: \"A2, cache\".\n",
    "        # A2, cache = ...\n",
    "        \n",
    "        # Cost function. Inputs: \"A2, Y\". Outputs: \"cost\".\n",
    "        # cost = ...\n",
    " \n",
    "        # Backpropagation. Inputs: \"parameters, cache, X, Y\". Outputs: \"grads\".\n",
    "        # grads = ...\n",
    " \n",
    "        # Gradient descent parameter update. Inputs: \"parameters, grads\". Outputs: \"parameters\".\n",
    "        # parameters = ...\n",
    "        \n",
    "        # YOUR CODE STARTS HERE\n",
    "        A2,cache=forward_propagation(X, parameters)\n",
    "        cost=compute_cost(A2, Y)\n",
    "        grads=backward_propagation(parameters, cache, X, Y)\n",
    "        parameters=update_parameters(parameters, grads, learning_rate = 1.2)\n",
    "        # YOUR CODE ENDS HERE\n",
    "        \n",
    "        # Print the cost every 1000 iterations\n",
    "        if print_cost and i % 100 == 0:\n",
    "            print (\"Cost after iteration %i: %f\" %(i, cost))\n",
    "\n",
    "    return parameters"
   ]
  },
  {
   "cell_type": "code",
   "execution_count": 312,
   "id": "861a1206",
   "metadata": {},
   "outputs": [
    {
     "name": "stdout",
     "output_type": "stream",
     "text": [
      "Cost after iteration 0: 0.693203\n",
      "Cost after iteration 100: 0.330347\n",
      "Cost after iteration 200: 0.270665\n",
      "Cost after iteration 300: 0.266274\n",
      "Cost after iteration 400: 0.263818\n",
      "Cost after iteration 500: 0.263339\n",
      "Cost after iteration 600: 0.263430\n",
      "Cost after iteration 700: 0.263608\n",
      "Cost after iteration 800: 0.264457\n",
      "Cost after iteration 900: 0.268681\n"
     ]
    }
   ],
   "source": [
    "n_h=18\n",
    "parameters=nn_model(x_train, y_train, n_h, num_iterations = 1000, print_cost=True)"
   ]
  },
  {
   "cell_type": "code",
   "execution_count": 343,
   "id": "0ffcaa8d",
   "metadata": {},
   "outputs": [],
   "source": [
    "def predict(parameters, X):\n",
    "    \"\"\"\n",
    "    Using the learned parameters, predicts a class for each example in X\n",
    "    \n",
    "    Arguments:\n",
    "    parameters -- python dictionary containing your parameters \n",
    "    X -- input data of size (n_x, m)\n",
    "    \n",
    "    Returns\n",
    "    predictions -- vector of predictions of our model (red: 0 / blue: 1)\n",
    "    \"\"\"\n",
    "    \n",
    "    # Computes probabilities using forward propagation, and classifies to 0/1 using 0.5 as the threshold.\n",
    "    #(≈ 2 lines of code)\n",
    "    # A2, cache = ...\n",
    "    # predictions = ...\n",
    "    # YOUR CODE STARTS HERE\n",
    "    \n",
    "    A2,cahche=forward_propagation(X, parameters)\n",
    "    \n",
    "    prediction=np.zeros([10,10000])\n",
    "    \n",
    "    for i in range(0,A2.shape[1]):\n",
    "        index=A2[:,i].argmax()\n",
    "        prediction[index][i]=1\n",
    "                        \n",
    "\n",
    "    # YOUR CODE ENDS HERE\n",
    "    return prediction"
   ]
  },
  {
   "cell_type": "code",
   "execution_count": 353,
   "id": "7717b447",
   "metadata": {},
   "outputs": [
    {
     "name": "stdout",
     "output_type": "stream",
     "text": [
      "[0. 0. 0. 0. 1. 0. 0. 0. 0. 0.]\n",
      "test accuracy: 98.466 %\n"
     ]
    }
   ],
   "source": [
    "prediction=predict(parameters,x_test)\n",
    "# print(A2.shape)\n",
    "print(prediction[:,8000])\n",
    "# print(y_test[:,0])\n",
    "\n",
    "print(\"test accuracy: {} %\".format(100 - np.mean(np.abs(prediction - y_test)) * 100))"
   ]
  },
  {
   "cell_type": "code",
   "execution_count": 361,
   "id": "8268a8f3",
   "metadata": {},
   "outputs": [
    {
     "data": {
      "image/png": "[encoded data removed]",
      "text/plain": [
       "<Figure size 432x288 with 1 Axes>"
      ]
     },
     "metadata": {
      "needs_background": "light"
     },
     "output_type": "display_data"
    },
    {
     "name": "stdout",
     "output_type": "stream",
     "text": [
      "8\n"
     ]
    }
   ],
   "source": [
    "ind=8524\n",
    "img = x_test[:,ind].reshape(28,28) # First image in the training set.\n",
    "plt.imshow(img,cmap='gray')\n",
    "plt.show()\n",
    "print(prediction[:,ind].argmax())"
   ]
  },
  {
   "cell_type": "code",
   "execution_count": null,
   "id": "e52fe42b",
   "metadata": {},
   "outputs": [],
   "source": []
  }
 ],
 "metadata": {
  "kernelspec": {
   "display_name": "Python 3 (ipykernel)",
   "language": "python",
   "name": "python3"
  },
  "language_info": {
   "codemirror_mode": {
    "name": "ipython",
    "version": 3
   },
   "file_extension": ".py",
   "mimetype": "text/x-python",
   "name": "python",
   "nbconvert_exporter": "python",
   "pygments_lexer": "ipython3",
   "version": "3.9.12"
  }
 },
 "nbformat": 4,
 "nbformat_minor": 5
}
